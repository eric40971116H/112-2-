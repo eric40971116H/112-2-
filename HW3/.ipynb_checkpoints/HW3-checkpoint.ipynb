{
 "cells": [
  {
   "cell_type": "code",
   "execution_count": 1,
   "id": "8e6246b3",
   "metadata": {},
   "outputs": [],
   "source": [
    "import openai\n",
    "import pandas as pd"
   ]
  },
  {
   "cell_type": "code",
   "execution_count": 11,
   "id": "7f12f076",
   "metadata": {},
   "outputs": [],
   "source": [
    "with open('01.txt', 'r',encoding ='utf-8-sig') as fh:\n",
    "    tmp = fh.read()\n",
    "    itemlist = tmp.split(',')"
   ]
  },
  {
   "cell_type": "code",
   "execution_count": 12,
   "id": "42d5753a",
   "metadata": {},
   "outputs": [],
   "source": [
    "with open('02.txt', 'r',encoding ='utf-8-sig') as fh:\n",
    "    tmp1 = fh.read()\n",
    "    itemlist1 = tmp1.split(',')"
   ]
  },
  {
   "cell_type": "code",
   "execution_count": 13,
   "id": "0185ae58",
   "metadata": {},
   "outputs": [],
   "source": [
    "with open('03.txt', 'r',encoding ='utf-8-sig') as fh:\n",
    "    tmp2 = fh.read()\n",
    "    itemlist1 = tmp1.split(',')"
   ]
  },
  {
   "cell_type": "code",
   "execution_count": 14,
   "id": "f8775cbe",
   "metadata": {},
   "outputs": [],
   "source": [
    "itemlist = str(itemlist)"
   ]
  },
  {
   "cell_type": "code",
   "execution_count": 15,
   "id": "4256c511",
   "metadata": {},
   "outputs": [
    {
     "data": {
      "text/plain": [
       "'The construction, characteristics, and models of semiconductor diodes were introduced in Chapter 1. The primary goal of this chapter is to develop a working knowledge of the diode in a variety of configurations using models appropriate for the area\\nof application. By chapter’s end, the fundamental behavior pattern of diodes in dc and\\nac networks should be clearly understood. The concepts learned in this chapter will\\nhave significant carryover in the chapters to follow. For instance, diodes are frequently\\nemployed in the description of the basic construction of transistors and in the analysis of transistor networks in the dc and ac domains.\\nThe content of this chapter will reveal an interesting and very positive side of the\\nstudy of a field such as electronic devices and systems—once the basic behavior of\\na device is understood, its function and response in an infinite variety of configurations can be determined. The range of applications is endless, yet the characteristics\\nand models remain the same. The analysis will proceed from one that employs the\\nactual diode characteristic to one that utilizes the approximate models almost exclusively. It is important that the role and response of various elements of an electronic\\nsystem be understood without continually having to resort to lengthy mathematical\\nprocedures. This is usually accomplished through the approximation process, which\\ncan develop into an art itself. Although the results obtained using the actual characteristics may be slightly different from those obtained using a series of approximations, keep in mind that the characteristics obtained from a specification sheet may\\nin themselves be slightly different from the device in actual use. In other words, the\\ncharacteristics of a 1N4001 semiconductor diode may vary from one element to the\\nnext in the same lot. The variation may be slight, but it will often be sufficient to validate the approximations employed in the analysis. Also consider the other elements\\nof the network: Is the resistor labeled 100  exactly 100 ? Is the applied voltage\\nexactly 10 V or perhaps 10.08 V? All these tolerances contribute to the general belief that a response determined through an appropriate set of approximations can often be “as accurate” as one that employs the full characteristics. In this book the emphasis is toward developing a working knowledge of a device through the use of\\nappropriate approximations, thereby avoiding an unnecessary level of mathematical\\ncomplexity. Sufficient detail will normally be provided, however, to permit a detailed\\nmathematical analysis if desired.'"
      ]
     },
     "execution_count": 15,
     "metadata": {},
     "output_type": "execute_result"
    }
   ],
   "source": [
    "tmp"
   ]
  },
  {
   "cell_type": "code",
   "execution_count": 16,
   "id": "2edfd1c8",
   "metadata": {},
   "outputs": [],
   "source": [
    "data = [itemlist[0:3200], itemlist[3201:6400], \n",
    "        itemlist[6401:9600], itemlist[9601:12800], itemlist[12801:16000]]"
   ]
  },
  {
   "cell_type": "code",
   "execution_count": 17,
   "id": "7a6eaa56",
   "metadata": {},
   "outputs": [
    {
     "data": {
      "text/plain": [
       "\"['The construction', ' characteristics', ' and models of semiconductor diodes were introduced in Chapter 1. The primary goal of this chapter is to develop a working knowledge of the diode in a variety of configurations using models appropriate for the area\\\\nof application. By chapter’s end', ' the fundamental behavior pattern of diodes in dc and\\\\nac networks should be clearly understood. The concepts learned in this chapter will\\\\nhave significant carryover in the chapters to follow. For instance', ' diodes are frequently\\\\nemployed in the description of the basic construction of transistors and in the analysis of transistor networks in the dc and ac domains.\\\\nThe content of this chapter will reveal an interesting and very positive side of the\\\\nstudy of a field such as electronic devices and systems—once the basic behavior of\\\\na device is understood', ' its function and response in an infinite variety of configurations can be determined. The range of applications is endless', ' yet the characteristics\\\\nand models remain the same. The analysis will proceed from one that employs the\\\\nactual diode characteristic to one that utilizes the approximate models almost exclusively. It is important that the role and response of various elements of an electronic\\\\nsystem be understood without continually having to resort to lengthy mathematical\\\\nprocedures. This is usually accomplished through the approximation process', ' which\\\\ncan develop into an art itself. Although the results obtained using the actual characteristics may be slightly different from those obtained using a series of approximations', ' keep in mind that the characteristics obtained from a specification sheet may\\\\nin themselves be slightly different from the device in actual use. In other words', ' the\\\\ncharacteristics of a 1N4001 semiconductor diode may vary from one element to the\\\\nnext in the same lot. The variation may be slight', ' but it will often be sufficient to validate the approximations employed in the analysis. Also consider the other elements\\\\nof the network: Is the resistor labeled 100  exactly 100 ? Is the applied voltage\\\\nexactly 10 V or perhaps 10.08 V? All these tolerances contribute to the general belief that a response determined through an appropriate set of approximations can often be “as accurate” as one that employs the full characteristics. In this book the emphasis is toward developing a working knowledge of a device through the use of\\\\nappropriate approximations', ' thereby avoiding an unnecessary level of mathematical\\\\ncomplexity. Sufficient detail will normally be provided', ' however', ' to permit a detailed\\\\nmathematical analysis if desired.']\""
      ]
     },
     "execution_count": 17,
     "metadata": {},
     "output_type": "execute_result"
    }
   ],
   "source": [
    "data[0]"
   ]
  },
  {
   "cell_type": "code",
   "execution_count": 19,
   "id": "a352cf19",
   "metadata": {},
   "outputs": [],
   "source": [
    "keyfile = open(\"key.txt\", \"r\")\n",
    "key = keyfile.readline()\n",
    "openai.api_key = key"
   ]
  },
  {
   "cell_type": "code",
   "execution_count": 20,
   "id": "704f8fa1",
   "metadata": {},
   "outputs": [],
   "source": [
    "def chatgptfn(sub_list):\n",
    "    result = ''\n",
    "    response = openai.ChatCompletion.create(\n",
    "        model=\"gpt-3.5-turbo\",\n",
    "        messages=[\n",
    "            {\"role\": \"system\", \"content\": \"You are an assistant\"},\n",
    "            {\"role\": \"user\", \"content\": f\"{sub_list} :give me a summary\"}\n",
    "        ]\n",
    "    )\n",
    "    for choice in response.choices:\n",
    "        result += choice.message.content\n",
    "    return result"
   ]
  },
  {
   "cell_type": "code",
   "execution_count": null,
   "id": "54937a4c",
   "metadata": {},
   "outputs": [],
   "source": [
    "for i in range(0,5):\n",
    "    data[i] = chatgptfn(data[i])"
   ]
  },
  {
   "cell_type": "code",
   "execution_count": null,
   "id": "68ea6e84",
   "metadata": {},
   "outputs": [],
   "source": [
    "itemlist"
   ]
  },
  {
   "cell_type": "code",
   "execution_count": 22,
   "id": "0a5315c0",
   "metadata": {},
   "outputs": [],
   "source": [
    "papers = [tmp,tmp1,tmp2]"
   ]
  },
  {
   "cell_type": "code",
   "execution_count": 25,
   "id": "e79c2743",
   "metadata": {
    "scrolled": true
   },
   "outputs": [],
   "source": [
    "import gensim\n",
    "from gensim import corpora\n",
    "from pprint import pprint"
   ]
  },
  {
   "cell_type": "code",
   "execution_count": 26,
   "id": "380bf53e",
   "metadata": {},
   "outputs": [],
   "source": [
    "# 創建詞袋\n",
    "texts = [[word for word in document.lower().split()] for document in papers]\n",
    "dictionary = corpora.Dictionary(texts)\n",
    "corpus = [dictionary.doc2bow(text) for text in texts]"
   ]
  },
  {
   "cell_type": "code",
   "execution_count": 27,
   "id": "37638350",
   "metadata": {},
   "outputs": [],
   "source": [
    "# 訓練 LDA 模型\n",
    "lda_model = gensim.models.ldamodel.LdaModel(corpus=corpus, id2word=dictionary, \n",
    "                                            num_topics=3, random_state=100, update_every=1, \n",
    "                                            chunksize=100, passes=10, alpha='auto', per_word_topics=True)"
   ]
  },
  {
   "cell_type": "code",
   "execution_count": 30,
   "id": "f478c5da",
   "metadata": {
    "scrolled": false
   },
   "outputs": [
    {
     "name": "stderr",
     "output_type": "stream",
     "text": [
      "C:\\Users\\Eric\\.conda\\envs\\tes\\lib\\site-packages\\pyLDAvis\\_prepare.py:243: FutureWarning: In a future version of pandas all arguments of DataFrame.drop except for the argument 'labels' will be keyword-only.\n",
      "  default_term_info = default_term_info.sort_values(\n"
     ]
    },
    {
     "data": {
      "text/html": [
       "\n",
       "<link rel=\"stylesheet\" type=\"text/css\" href=\"https://cdn.jsdelivr.net/gh/bmabey/pyLDAvis@3.4.0/pyLDAvis/js/ldavis.v1.0.0.css\">\n",
       "\n",
       "\n",
       "<div id=\"ldavis_el3624419837935389927602061757\" style=\"background-color:white;\"></div>\n",
       "<script type=\"text/javascript\">\n",
       "\n",
       "var ldavis_el3624419837935389927602061757_data = {\"mdsDat\": {\"x\": [0.04110710632129512, -0.09021870151694854, 0.04911159519565335], \"y\": [0.06469806440501014, -0.003716886771515618, -0.06098117763349446], \"topics\": [1, 2, 3], \"cluster\": [1, 1, 1], \"Freq\": [59.50035555815181, 40.34775300095805, 0.15189144089014228]}, \"tinfo\": {\"Term\": [\"with\", \"diode\", \"each\", \"\\u201con\\u201d\", \"the\", \"an\", \"using\", \"obtained\", \"chapter\", \"from\", \"other\", \"employed\", \"response\", \"models\", \"mathematical\", \"may\", \"characteristics\", \"current\", \"resulting\", \"direction\", \"this\", \"one\", \"voltage\", \"are\", \"as\", \"book\", \"results\", \"knowledge\", \"develop\", \"it\", \"an\", \"using\", \"obtained\", \"chapter\", \"from\", \"other\", \"models\", \"response\", \"employed\", \"may\", \"mathematical\", \"characteristics\", \"knowledge\", \"book\", \"results\", \"develop\", \"it\", \"actual\", \"approximations\", \"possible\", \"rav\", \"much\", \"should\", \"manner\", \"application\", \"was\", \"due\", \"general\", \"complete\", \"not\", \"this\", \"one\", \"of\", \"to\", \"analysis\", \"the\", \"be\", \"in\", \"approximate\", \"device\", \"elements\", \"that\", \"a\", \"and\", \"is\", \"will\", \"model\", \"for\", \"diode\", \"with\", \"each\", \"\\u201con\\u201d\", \"current\", \"resulting\", \"direction\", \"resistive\", \"state\", \"fig.\", \"vd\", \"state.\", \"network\", \"symbol,\", \"arrow\", \"circuit\", \"number\", \"defined\", \"across\", \"shown\", \"vt\", \"0.7-v\", \"diode.\", \"established\", \"levels\", \"redrawn\", \"utilized\", \"drop\", \"first\", \"note\", \"mentally\", \"diode\", \"the\", \"voltage\", \"are\", \"in\", \"is\", \"as\", \"a\", \"and\", \"for\", \"by\", \"v\", \"determined.\", \"described\", \"will\", \"of\", \"be\", \"if\", \"that\", \"to\", \"can\", \"diodes\", \"applied\", \"series\", \"equivalent\", \"section\", \"state,\", \"voltages\", \"element,\", \"parameters\", \"demonstrate\", \"must\", \"reference\", \"either\", \"2.11.\", \"foundation\", \"contingent\", \"determined,\", \"(\\u201cpressure\\u201d).\", \"carry\", \"once\", \"element.\", \"(vt)\", \"future\", \"inputs.\", \"result\", \"germanium.\", \"\\b\", \"over\", \"some\", \"\\u201coff\\u201d\", \"line\", \"greater\", \"would\", \"i\", \"then\", \"the\", \"of\", \"diode\", \"a\", \"is\", \"in\", \"for\", \"and\", \"will\", \"each\", \"with\", \"that\", \"to\", \"be\", \"\\u201con\\u201d\", \"as\", \"by\", \"current\", \"if\", \"equivalent\", \"model\", \"applied\", \"described\", \"resulting\", \"direction\", \"symbol,\", \"series\", \"appropriate\", \"section\", \"network\", \"can\", \"through\"], \"Freq\": [7.0, 17.0, 5.0, 5.0, 95.0, 5.0, 4.0, 4.0, 4.0, 4.0, 3.0, 3.0, 3.0, 3.0, 3.0, 3.0, 3.0, 3.0, 3.0, 3.0, 7.0, 7.0, 4.0, 4.0, 8.0, 3.0, 3.0, 3.0, 3.0, 3.0, 5.241330482117674, 4.415373907775347, 4.413205103677265, 4.406006989690755, 4.395436904555603, 3.591641342368492, 3.591570620495728, 3.5871255866700484, 3.585925702069279, 3.585208337587745, 3.583615752630196, 3.578640453961053, 2.7625243656867595, 2.7607730295211503, 2.760785264106734, 2.7582428575415627, 2.757072813393436, 2.753469877141338, 2.7529321521847137, 1.9378648066185538, 1.9376900907683299, 1.9365610772425874, 1.9359011556323908, 1.9354727959347027, 1.93533806629102, 1.9351351512130486, 1.9342636607936141, 1.9343716832321811, 1.9344643378376374, 1.9336171673871065, 6.084474261968707, 6.071855928164149, 27.53128144277672, 14.366295611782075, 4.409723319662896, 54.82101277673627, 11.002234570326005, 22.51010725535845, 3.589988479696604, 3.589149664572813, 3.5857365135995236, 7.703475181815452, 12.654324971299358, 11.82186705753973, 10.178368319691309, 6.065151972073406, 3.5899350652863733, 4.4155201259932975, 5.21290207969388, 7.090698638115951, 4.810910295967498, 4.813067761555238, 3.29247966149763, 3.2926047143707518, 3.292337813497536, 2.5343998364916955, 2.5333241389617367, 2.5335090877093633, 2.5338589524628055, 2.5337707274584673, 2.5325268763078546, 2.531898171976481, 2.532640597529043, 1.7740644056982422, 1.7739759783429767, 1.7742347851790972, 1.773230517526504, 1.773629148853445, 1.774028184882241, 1.773603652636595, 1.7739478515640705, 1.7728762010526595, 1.772702988658821, 1.7730805754893144, 1.7731898449901005, 1.773849306662436, 1.7731740616177647, 1.7726973228328544, 1.773154028875954, 12.488600645286668, 41.03025722948132, 3.311102219695455, 3.3096637069527017, 17.281942833738924, 8.720704966891068, 4.855921236254187, 9.507830648715164, 8.748979866675906, 4.842407027218102, 2.548603657488296, 2.5495296153319926, 2.5471135452590605, 2.545119781571573, 4.862205851356795, 9.63831219251657, 5.691837773688454, 3.3293166360727526, 4.12965542875299, 4.906279097445998, 2.5697839314082205, 2.5616743132915616, 2.5558967896129716, 2.559168804108727, 2.5575546507610065, 2.550124729409421, 0.004149440283170468, 0.004147523690670399, 0.004147206416911941, 0.004146844580092571, 0.0041465075005292645, 0.00414647169772819, 0.0041459929304840356, 0.0041460016907438725, 0.00414569889045819, 0.004145453603182744, 0.004145420466547707, 0.0041450407283278, 0.004145078435533188, 0.0041449740741768635, 0.004144772207319742, 0.004144040535182891, 0.004143656226392635, 0.00414351187254575, 0.004143001111309145, 0.004142567288006765, 0.004142422934159879, 0.004142420648874705, 0.0041421555557944086, 0.00414177086612329, 0.004141428073347045, 0.004141325235514172, 0.004141215541825774, 0.004140702114423132, 0.004140478537356848, 0.004140481203522885, 0.006785997404139693, 0.00486909753321401, 0.004680370684967386, 0.004670921030768911, 0.004632119554664063, 0.004718264902857774, 0.004463613290526381, 0.00457161891494207, 0.004449645627537002, 0.00434541643687294, 0.00439106767440888, 0.0044382984248815815, 0.0044854011993844855, 0.004457049570623022, 0.00428035741498862, 0.0043122957988321895, 0.004236194278982444, 0.004230163030524852, 0.00428397844934835, 0.004262087702657372, 0.004248221353977417, 0.004236920237906358, 0.004228127222314822, 0.004225167397132382, 0.0042221489162971165, 0.004207736765341207, 0.004233589053882986, 0.00422367815296003, 0.004219243557078013, 0.0041992236971836044, 0.0042315300119403435, 0.004217517024128327], \"Total\": [7.0, 17.0, 5.0, 5.0, 95.0, 5.0, 4.0, 4.0, 4.0, 4.0, 3.0, 3.0, 3.0, 3.0, 3.0, 3.0, 3.0, 3.0, 3.0, 3.0, 7.0, 7.0, 4.0, 4.0, 8.0, 3.0, 3.0, 3.0, 3.0, 3.0, 5.5404673920807115, 4.705148321608401, 4.705393215406464, 4.704664364415633, 4.704429782646135, 3.8708661798046826, 3.8727153584586387, 3.8717210083314817, 3.8713492545244668, 3.8722620493846427, 3.871158148791723, 3.872042668073567, 3.0379887957111436, 3.0375055365422687, 3.037521195736421, 3.0375291711656427, 3.037321713882089, 3.03715662581795, 3.03740627776943, 2.2036635345136246, 2.2035641570969613, 2.202520396607668, 2.2036599272794493, 2.2032210581673186, 2.203746730903919, 2.203699006731528, 2.2029868827302788, 2.203487325794234, 2.203725686523852, 2.2028180613737636, 7.135417074092602, 7.1342122729553195, 37.174462732826505, 19.27706011042746, 5.464498263873346, 95.85805600362173, 16.69852939358508, 39.79676835400023, 4.631872706382067, 4.634288736291484, 4.630523567784402, 11.837568908993324, 22.166826541045292, 20.575418543130578, 18.903705406137043, 10.931807469057738, 5.3911226552753355, 9.262390766501927, 17.706183095665516, 7.38266268876776, 5.09744752925612, 5.101587121425255, 3.57949845043276, 3.5798201731815062, 3.5800469668119783, 2.8199568219496167, 2.8189009791429487, 2.8191673916750815, 2.8197149826304706, 2.819660981920106, 2.818810640429535, 2.8183018659563746, 2.819430418004118, 2.05814754468432, 2.0582076701002423, 2.0586762087408395, 2.057714343341218, 2.0581985774981537, 2.0586649122432297, 2.0581915390703176, 2.058788937624414, 2.0576016679145086, 2.0574223916302166, 2.0578711338019304, 2.0580227941023166, 2.058903924430189, 2.058137562680914, 2.0576821052374887, 2.058326500999186, 17.706183095665516, 95.85805600362173, 4.413783156583823, 4.414437385991662, 39.79676835400023, 18.903705406137043, 8.436027803640997, 22.166826541045292, 20.575418543130578, 9.262390766501927, 3.6499044730842383, 3.652085952530945, 3.6525498183049367, 3.6507788597426813, 10.931807469057738, 37.174462732826505, 16.69852939358508, 6.91305183358146, 11.837568908993324, 19.27706011042746, 6.153761504151631, 5.320284664277892, 4.484351731464538, 5.319449888603238, 5.317700111414756, 4.486084623489159, 1.2965988112844582, 1.296710566493716, 1.2967432928649765, 1.296756211494019, 1.296750536365418, 1.2968346920525804, 1.2967903566980379, 1.2967959970095269, 1.296810189597952, 1.2968379835930042, 1.2968489408930548, 1.2968481607731117, 1.2968623254688847, 1.2968860733000411, 1.2968687942647619, 1.2969524282008353, 1.2969316113777025, 1.2969823485460186, 1.2969802902700256, 1.2970229377856848, 1.2970015175372405, 1.2970219627198207, 1.2970390109904626, 1.2970353031687898, 1.2970785561296487, 1.297091482046317, 1.2971187954159613, 1.2971412856355065, 1.2971308177977179, 1.2971451759135006, 95.85805600362173, 37.174462732826505, 17.706183095665516, 22.166826541045292, 18.903705406137043, 39.79676835400023, 9.262390766501927, 20.575418543130578, 10.931807469057738, 5.09744752925612, 7.38266268876776, 11.837568908993324, 19.27706011042746, 16.69852939358508, 5.101587121425255, 8.436027803640997, 3.6499044730842383, 3.57949845043276, 6.91305183358146, 5.317700111414756, 5.3911226552753355, 4.484351731464538, 3.6507788597426813, 3.5798201731815062, 3.5800469668119783, 2.8183018659563746, 5.319449888603238, 4.557322372777861, 4.486084623489159, 2.818810640429535, 6.153761504151631, 4.557989354100329], \"Category\": [\"Default\", \"Default\", \"Default\", \"Default\", \"Default\", \"Default\", \"Default\", \"Default\", \"Default\", \"Default\", \"Default\", \"Default\", \"Default\", \"Default\", \"Default\", \"Default\", \"Default\", \"Default\", \"Default\", \"Default\", \"Default\", \"Default\", \"Default\", \"Default\", \"Default\", \"Default\", \"Default\", \"Default\", \"Default\", \"Default\", \"Topic1\", \"Topic1\", \"Topic1\", \"Topic1\", \"Topic1\", \"Topic1\", \"Topic1\", \"Topic1\", \"Topic1\", \"Topic1\", \"Topic1\", \"Topic1\", \"Topic1\", \"Topic1\", \"Topic1\", \"Topic1\", \"Topic1\", \"Topic1\", \"Topic1\", \"Topic1\", \"Topic1\", \"Topic1\", \"Topic1\", \"Topic1\", \"Topic1\", \"Topic1\", \"Topic1\", \"Topic1\", \"Topic1\", \"Topic1\", \"Topic1\", \"Topic1\", \"Topic1\", \"Topic1\", \"Topic1\", \"Topic1\", \"Topic1\", \"Topic1\", \"Topic1\", \"Topic1\", \"Topic1\", \"Topic1\", \"Topic1\", \"Topic1\", \"Topic1\", \"Topic1\", \"Topic1\", \"Topic1\", \"Topic1\", \"Topic2\", \"Topic2\", \"Topic2\", \"Topic2\", \"Topic2\", \"Topic2\", \"Topic2\", \"Topic2\", \"Topic2\", \"Topic2\", \"Topic2\", \"Topic2\", \"Topic2\", \"Topic2\", \"Topic2\", \"Topic2\", \"Topic2\", \"Topic2\", \"Topic2\", \"Topic2\", \"Topic2\", \"Topic2\", \"Topic2\", \"Topic2\", \"Topic2\", \"Topic2\", \"Topic2\", \"Topic2\", \"Topic2\", \"Topic2\", \"Topic2\", \"Topic2\", \"Topic2\", \"Topic2\", \"Topic2\", \"Topic2\", \"Topic2\", \"Topic2\", \"Topic2\", \"Topic2\", \"Topic2\", \"Topic2\", \"Topic2\", \"Topic2\", \"Topic2\", \"Topic2\", \"Topic2\", \"Topic2\", \"Topic2\", \"Topic2\", \"Topic2\", \"Topic2\", \"Topic2\", \"Topic2\", \"Topic2\", \"Topic2\", \"Topic3\", \"Topic3\", \"Topic3\", \"Topic3\", \"Topic3\", \"Topic3\", \"Topic3\", \"Topic3\", \"Topic3\", \"Topic3\", \"Topic3\", \"Topic3\", \"Topic3\", \"Topic3\", \"Topic3\", \"Topic3\", \"Topic3\", \"Topic3\", \"Topic3\", \"Topic3\", \"Topic3\", \"Topic3\", \"Topic3\", \"Topic3\", \"Topic3\", \"Topic3\", \"Topic3\", \"Topic3\", \"Topic3\", \"Topic3\", \"Topic3\", \"Topic3\", \"Topic3\", \"Topic3\", \"Topic3\", \"Topic3\", \"Topic3\", \"Topic3\", \"Topic3\", \"Topic3\", \"Topic3\", \"Topic3\", \"Topic3\", \"Topic3\", \"Topic3\", \"Topic3\", \"Topic3\", \"Topic3\", \"Topic3\", \"Topic3\", \"Topic3\", \"Topic3\", \"Topic3\", \"Topic3\", \"Topic3\", \"Topic3\", \"Topic3\", \"Topic3\", \"Topic3\", \"Topic3\", \"Topic3\", \"Topic3\"], \"logprob\": [30.0, 29.0, 28.0, 27.0, 26.0, 25.0, 24.0, 23.0, 22.0, 21.0, 20.0, 19.0, 18.0, 17.0, 16.0, 15.0, 14.0, 13.0, 12.0, 11.0, 10.0, 9.0, 8.0, 7.0, 6.0, 5.0, 4.0, 3.0, 2.0, 1.0, -4.8062, -4.9777, -4.9781, -4.9798, -4.9822, -5.1841, -5.1842, -5.1854, -5.1857, -5.1859, -5.1864, -5.1878, -5.4466, -5.4472, -5.4472, -5.4482, -5.4486, -5.4499, -5.4501, -5.8012, -5.8013, -5.8018, -5.8022, -5.8024, -5.8025, -5.8026, -5.803, -5.803, -5.8029, -5.8034, -4.657, -4.6591, -3.1474, -3.7979, -4.9789, -2.4587, -4.0646, -3.3488, -5.1846, -5.1848, -5.1858, -4.4211, -3.9247, -3.9928, -4.1425, -4.6602, -5.1846, -4.9776, -4.8116, -4.1155, -4.5034, -4.503, -4.8827, -4.8826, -4.8827, -5.1443, -5.1448, -5.1447, -5.1446, -5.1446, -5.1451, -5.1453, -5.145, -5.501, -5.5011, -5.5009, -5.5015, -5.5013, -5.501, -5.5013, -5.5011, -5.5017, -5.5018, -5.5016, -5.5015, -5.5011, -5.5015, -5.5018, -5.5015, -3.5495, -2.36, -4.877, -4.8775, -3.2246, -3.9086, -4.4941, -3.8222, -3.9054, -4.4969, -5.1388, -5.1384, -5.1393, -5.1401, -4.4928, -3.8086, -4.3353, -4.8715, -4.6561, -4.4838, -5.1305, -5.1336, -5.1359, -5.1346, -5.1352, -5.1382, -5.977, -5.9774, -5.9775, -5.9776, -5.9777, -5.9777, -5.9778, -5.9778, -5.9779, -5.9779, -5.9779, -5.978, -5.978, -5.978, -5.9781, -5.9783, -5.9784, -5.9784, -5.9785, -5.9786, -5.9786, -5.9787, -5.9787, -5.9788, -5.9789, -5.9789, -5.9789, -5.9791, -5.9791, -5.9791, -5.4851, -5.817, -5.8566, -5.8586, -5.8669, -5.8485, -5.904, -5.8801, -5.9071, -5.9308, -5.9204, -5.9097, -5.8991, -5.9054, -5.9459, -5.9385, -5.9563, -5.9577, -5.945, -5.9502, -5.9534, -5.9561, -5.9582, -5.9589, -5.9596, -5.963, -5.9569, -5.9592, -5.9603, -5.965, -5.9574, -5.9607], \"loglift\": [30.0, 29.0, 28.0, 27.0, 26.0, 25.0, 24.0, 23.0, 22.0, 21.0, 20.0, 19.0, 18.0, 17.0, 16.0, 15.0, 14.0, 13.0, 12.0, 11.0, 10.0, 9.0, 8.0, 7.0, 6.0, 5.0, 4.0, 3.0, 2.0, 1.0, 0.4637, 0.4556, 0.4551, 0.4536, 0.4513, 0.4443, 0.4438, 0.4428, 0.4426, 0.4422, 0.442, 0.4404, 0.4241, 0.4237, 0.4237, 0.4227, 0.4224, 0.4211, 0.4209, 0.3907, 0.3906, 0.3905, 0.3896, 0.3896, 0.3893, 0.3892, 0.3891, 0.3889, 0.3889, 0.3888, 0.3599, 0.358, 0.2189, 0.2252, 0.3047, -0.0396, 0.102, -0.0506, 0.2644, 0.2636, 0.2635, 0.0896, -0.0414, -0.035, -0.0999, -0.0699, 0.1126, -0.2216, -0.7036, 0.8673, 0.8498, 0.8494, 0.8241, 0.824, 0.8239, 0.8009, 0.8008, 0.8008, 0.8007, 0.8007, 0.8005, 0.8005, 0.8004, 0.7591, 0.759, 0.7589, 0.7588, 0.7588, 0.7588, 0.7588, 0.7587, 0.7587, 0.7587, 0.7587, 0.7587, 0.7586, 0.7586, 0.7586, 0.7585, 0.5585, 0.0591, 0.6202, 0.6196, 0.0735, 0.134, 0.3553, 0.0612, 0.0525, 0.2591, 0.5485, 0.5482, 0.5472, 0.5469, 0.0975, -0.4422, -0.1687, 0.177, -0.1454, -0.4608, 0.0344, 0.1768, 0.3454, 0.1759, 0.1756, 0.3428, 0.7452, 0.7447, 0.7446, 0.7445, 0.7444, 0.7443, 0.7443, 0.7443, 0.7442, 0.7441, 0.7441, 0.744, 0.744, 0.7439, 0.7439, 0.7437, 0.7436, 0.7435, 0.7434, 0.7432, 0.7432, 0.7432, 0.7431, 0.743, 0.7429, 0.7429, 0.7428, 0.7427, 0.7427, 0.7427, -3.066, -2.4507, -1.7485, -1.9752, -1.8243, -2.5503, -1.148, -1.9222, -1.3168, -0.5776, -0.9376, -1.399, -1.8761, -1.7388, -0.5935, -1.089, -0.269, -0.251, -0.8965, -0.6393, -0.6562, -0.4748, -0.2712, -0.2522, -0.253, -0.0172, -0.6463, -0.494, -0.4793, -0.0194, -0.7925, -0.4956]}, \"token.table\": {\"Topic\": [2, 2, 2, 2, 2, 1, 2, 2, 1, 1, 1, 2, 1, 2, 1, 1, 2, 1, 2, 1, 2, 1, 1, 2, 2, 1, 2, 1, 2, 1, 1, 2, 1, 2, 2, 1, 1, 2, 1, 2, 2, 2, 2, 1, 2, 2, 1, 2, 1, 1, 2, 1, 2, 2, 1, 2, 2, 2, 1, 2, 2, 2, 2, 1, 2, 1, 1, 2, 2, 2, 2, 1, 2, 2, 1, 2, 1, 2, 2, 2, 1, 2, 1, 2, 2, 1, 2, 1, 1, 2, 2, 1, 1, 1, 2, 1, 2, 1, 1, 2, 2, 1, 2, 2, 1, 1, 2, 2, 1, 2, 1, 2, 2, 1, 1, 2, 2, 2, 1, 2, 2, 1, 1, 2, 1, 2, 1, 2, 2, 2, 2, 2, 2, 1, 2, 1, 2, 2, 1, 2, 1, 2, 1, 2, 1, 2, 1, 2, 2, 1, 2, 2, 2, 1, 1, 2, 2, 2, 2, 2], \"Freq\": [0.7709969674707947, 0.7710506793320594, 0.7710918733323885, 0.9717268592520778, 0.7711228736643628, 0.5864619356283813, 0.45112456586798566, 0.971952208270316, 0.9877659829914294, 0.9024509389129822, 0.7319976705719949, 0.18299941764299874, 0.5832202137149908, 0.4374151602862431, 0.9075453054351906, 0.44599534554057446, 0.6689930183108617, 0.6582812789193551, 0.43885418594623665, 0.863581590765343, 0.21589539769133576, 0.9876847960566869, 0.22652943343885698, 0.6795883003165709, 1.0640447023777617, 0.4741568061539101, 0.5926960076923876, 0.6587406436057638, 0.3593130783304166, 0.9876525207638097, 0.2739797732719786, 0.8219393198159357, 0.650008941246976, 0.487506705935232, 0.7710777535419219, 0.8502200561329183, 1.0330464674321616, 0.9717476306135095, 0.9075539719985712, 0.7710998316514532, 0.8381062435261848, 0.9714980877071835, 0.7711583469268024, 0.27391415323098567, 0.821742459692957, 0.7711002955071111, 0.27378134447022456, 0.8213440334106736, 0.987644835966714, 0.8631313730358838, 0.21578284325897096, 0.28238723009839445, 0.6777293522361466, 0.9714448933787991, 0.563879602184253, 0.563879602184253, 0.8379778331990687, 0.9713906395867932, 0.9078583334646522, 0.9808830735977502, 0.771131313102483, 0.7711626545533443, 0.7710383035307046, 0.8638332018929573, 0.21595830047323933, 1.03323150070358, 0.5641536636412279, 0.5641536636412279, 0.9720054329208961, 1.0641439769979293, 0.9717523436066223, 0.4318539457940249, 0.5398174322425312, 0.7711063468617813, 0.8502624515207645, 0.7710205162938798, 0.9076521460268041, 0.7710091210215467, 0.7709394108959149, 0.7709322654886963, 0.5786156528682804, 0.4339617396512104, 0.5779363740143519, 0.4271703634019123, 0.7710217398845779, 0.5289968175632659, 0.4760971358069393, 0.9877122947788145, 0.987495412832077, 0.9720901299296556, 0.7709556448727736, 0.9077618392335257, 1.0332825077809058, 1.0329879406368319, 0.9716631443209461, 0.7419604887093246, 0.3709802443546623, 1.0328670273335092, 0.9080506146868875, 0.7711083040331365, 1.0642786560302095, 0.9079279106476554, 0.9719674360336475, 0.9717192434243492, 0.8500883596514621, 0.7532052366495913, 0.2690018702319969, 0.7710880271176032, 0.8410178686082919, 0.14016964476804863, 1.0333604454912553, 0.770986833492669, 0.7711549720266077, 0.907579568602983, 0.9076204990713125, 0.9718781546369168, 0.7711346670916474, 1.0638460761700272, 1.0331322921751018, 0.7709963878566628, 0.8380309219090744, 0.9876474291639225, 0.44582306573709984, 0.6687345986056498, 0.5639680912169903, 0.5639680912169903, 0.9075810542460244, 0.9717235362348287, 0.7709890375049143, 1.0642445485659138, 0.7712485861446714, 1.0639576953528251, 1.064470785134284, 0.675814439730288, 0.337907219865144, 0.5737650260497874, 0.4277157466916597, 0.770923732030041, 0.8408758643954963, 0.1401459773992494, 0.6581849510686605, 0.43878996737910697, 0.7262518205474204, 0.2593756501955073, 0.850132605093445, 0.9718065347630781, 0.2738161185135817, 0.821448355540745, 1.063937319367415, 0.22656301057933698, 0.6796890317380109, 0.7711821171504629, 0.9715034186018621, 0.9075649595932571, 0.5488570867153378, 0.45738090559611483, 0.9481673882581746, 0.770926044120222, 0.7709633277601157, 0.9800871534666894], \"Term\": [\"\\b\", \"(vt)\", \"(\\u201cpressure\\u201d).\", \"0.7-v\", \"2.11.\", \"a\", \"a\", \"across\", \"actual\", \"an\", \"analysis\", \"analysis\", \"and\", \"and\", \"application\", \"applied\", \"applied\", \"appropriate\", \"appropriate\", \"approximate\", \"approximate\", \"approximations\", \"are\", \"are\", \"arrow\", \"as\", \"as\", \"be\", \"be\", \"book\", \"by\", \"by\", \"can\", \"can\", \"carry\", \"chapter\", \"characteristics\", \"circuit\", \"complete\", \"contingent\", \"current\", \"defined\", \"demonstrate\", \"described\", \"described\", \"determined,\", \"determined.\", \"determined.\", \"develop\", \"device\", \"device\", \"diode\", \"diode\", \"diode.\", \"diodes\", \"diodes\", \"direction\", \"drop\", \"due\", \"each\", \"either\", \"element,\", \"element.\", \"elements\", \"elements\", \"employed\", \"equivalent\", \"equivalent\", \"established\", \"fig.\", \"first\", \"for\", \"for\", \"foundation\", \"from\", \"future\", \"general\", \"germanium.\", \"greater\", \"i\", \"if\", \"if\", \"in\", \"in\", \"inputs.\", \"is\", \"is\", \"it\", \"knowledge\", \"levels\", \"line\", \"manner\", \"mathematical\", \"may\", \"mentally\", \"model\", \"model\", \"models\", \"much\", \"must\", \"network\", \"not\", \"note\", \"number\", \"obtained\", \"of\", \"of\", \"once\", \"one\", \"one\", \"other\", \"over\", \"parameters\", \"possible\", \"rav\", \"redrawn\", \"reference\", \"resistive\", \"response\", \"result\", \"resulting\", \"results\", \"section\", \"section\", \"series\", \"series\", \"should\", \"shown\", \"some\", \"state\", \"state,\", \"state.\", \"symbol,\", \"that\", \"that\", \"the\", \"the\", \"then\", \"this\", \"this\", \"through\", \"through\", \"to\", \"to\", \"using\", \"utilized\", \"v\", \"v\", \"vd\", \"voltage\", \"voltage\", \"voltages\", \"vt\", \"was\", \"will\", \"will\", \"with\", \"would\", \"\\u201coff\\u201d\", \"\\u201con\\u201d\"]}, \"R\": 30, \"lambda.step\": 0.01, \"plot.opts\": {\"xlab\": \"PC1\", \"ylab\": \"PC2\"}, \"topic.order\": [1, 3, 2]};\n",
       "\n",
       "function LDAvis_load_lib(url, callback){\n",
       "  var s = document.createElement('script');\n",
       "  s.src = url;\n",
       "  s.async = true;\n",
       "  s.onreadystatechange = s.onload = callback;\n",
       "  s.onerror = function(){console.warn(\"failed to load library \" + url);};\n",
       "  document.getElementsByTagName(\"head\")[0].appendChild(s);\n",
       "}\n",
       "\n",
       "if(typeof(LDAvis) !== \"undefined\"){\n",
       "   // already loaded: just create the visualization\n",
       "   !function(LDAvis){\n",
       "       new LDAvis(\"#\" + \"ldavis_el3624419837935389927602061757\", ldavis_el3624419837935389927602061757_data);\n",
       "   }(LDAvis);\n",
       "}else if(typeof define === \"function\" && define.amd){\n",
       "   // require.js is available: use it to load d3/LDAvis\n",
       "   require.config({paths: {d3: \"https://d3js.org/d3.v5\"}});\n",
       "   require([\"d3\"], function(d3){\n",
       "      window.d3 = d3;\n",
       "      LDAvis_load_lib(\"https://cdn.jsdelivr.net/gh/bmabey/pyLDAvis@3.4.0/pyLDAvis/js/ldavis.v3.0.0.js\", function(){\n",
       "        new LDAvis(\"#\" + \"ldavis_el3624419837935389927602061757\", ldavis_el3624419837935389927602061757_data);\n",
       "      });\n",
       "    });\n",
       "}else{\n",
       "    // require.js not available: dynamically load d3 & LDAvis\n",
       "    LDAvis_load_lib(\"https://d3js.org/d3.v5.js\", function(){\n",
       "         LDAvis_load_lib(\"https://cdn.jsdelivr.net/gh/bmabey/pyLDAvis@3.4.0/pyLDAvis/js/ldavis.v3.0.0.js\", function(){\n",
       "                 new LDAvis(\"#\" + \"ldavis_el3624419837935389927602061757\", ldavis_el3624419837935389927602061757_data);\n",
       "            })\n",
       "         });\n",
       "}\n",
       "</script>"
      ],
      "text/plain": [
       "<IPython.core.display.HTML object>"
      ]
     },
     "execution_count": 30,
     "metadata": {},
     "output_type": "execute_result"
    }
   ],
   "source": [
    "# 輸出主題模型分析結果\n",
    "import pyLDAvis.gensim\n",
    "pyLDAvis.enable_notebook()\n",
    "vis = pyLDAvis.gensim.prepare(lda_model, corpus, dictionary)\n",
    "pyLDAvis.display(vis)"
   ]
  },
  {
   "cell_type": "code",
   "execution_count": 41,
   "id": "84af94ea",
   "metadata": {},
   "outputs": [
    {
     "data": {
      "text/html": [
       "<img src=\"01.png\"/>"
      ],
      "text/plain": [
       "<IPython.core.display.Image object>"
      ]
     },
     "execution_count": 41,
     "metadata": {},
     "output_type": "execute_result"
    }
   ],
   "source": [
    "from IPython.display import Image\n",
    "from IPython.core.display import HTML \n",
    "Image(url= \"01.png\")"
   ]
  },
  {
   "cell_type": "markdown",
   "id": "86d96aad",
   "metadata": {},
   "source": []
  }
 ],
 "metadata": {
  "kernelspec": {
   "display_name": "Python 3 (ipykernel)",
   "language": "python",
   "name": "python3"
  },
  "language_info": {
   "codemirror_mode": {
    "name": "ipython",
    "version": 3
   },
   "file_extension": ".py",
   "mimetype": "text/x-python",
   "name": "python",
   "nbconvert_exporter": "python",
   "pygments_lexer": "ipython3",
   "version": "3.8.16"
  }
 },
 "nbformat": 4,
 "nbformat_minor": 5
}
