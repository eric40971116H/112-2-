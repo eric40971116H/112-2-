{
 "cells": [
  {
   "cell_type": "markdown",
   "id": "3b07af7a",
   "metadata": {},
   "source": [
    "# 高雄111年科技執法「固定式違規照相設備」"
   ]
  },
  {
   "cell_type": "code",
   "execution_count": 2,
   "id": "2614383e",
   "metadata": {},
   "outputs": [],
   "source": [
    "import numpy as np"
   ]
  },
  {
   "cell_type": "code",
   "execution_count": 3,
   "id": "8c6233f5",
   "metadata": {},
   "outputs": [],
   "source": [
    "import pandas as pd\n",
    "\n",
    "\n",
    "df =pd.read_csv('111.csv') "
   ]
  },
  {
   "cell_type": "code",
   "execution_count": 4,
   "id": "de6ef171",
   "metadata": {},
   "outputs": [
    {
     "data": {
      "text/plain": [
       "259"
      ]
     },
     "execution_count": 4,
     "metadata": {},
     "output_type": "execute_result"
    }
   ],
   "source": [
    "len(df)"
   ]
  },
  {
   "cell_type": "code",
   "execution_count": 5,
   "id": "c3fa2d30",
   "metadata": {},
   "outputs": [
    {
     "data": {
      "text/html": [
       "<div>\n",
       "<style scoped>\n",
       "    .dataframe tbody tr th:only-of-type {\n",
       "        vertical-align: middle;\n",
       "    }\n",
       "\n",
       "    .dataframe tbody tr th {\n",
       "        vertical-align: top;\n",
       "    }\n",
       "\n",
       "    .dataframe thead th {\n",
       "        text-align: right;\n",
       "    }\n",
       "</style>\n",
       "<table border=\"1\" class=\"dataframe\">\n",
       "  <thead>\n",
       "    <tr style=\"text-align: right;\">\n",
       "      <th></th>\n",
       "      <th>編號</th>\n",
       "      <th>型式</th>\n",
       "      <th>測照地點</th>\n",
       "      <th>測照方向</th>\n",
       "      <th>速限</th>\n",
       "      <th>行政區</th>\n",
       "      <th>測照型式</th>\n",
       "      <th>座標緯度</th>\n",
       "      <th>座標經度</th>\n",
       "    </tr>\n",
       "  </thead>\n",
       "  <tbody>\n",
       "    <tr>\n",
       "      <th>0</th>\n",
       "      <td>1</td>\n",
       "      <td>非線圈數位-雷射</td>\n",
       "      <td>民族一路與十全一路口</td>\n",
       "      <td>北向南</td>\n",
       "      <td>60</td>\n",
       "      <td>三民</td>\n",
       "      <td>闖紅燈</td>\n",
       "      <td>22.644858</td>\n",
       "      <td>120.314341</td>\n",
       "    </tr>\n",
       "    <tr>\n",
       "      <th>1</th>\n",
       "      <td>2</td>\n",
       "      <td>線圈數位</td>\n",
       "      <td>九如一路與平等路口</td>\n",
       "      <td>西向東</td>\n",
       "      <td>50</td>\n",
       "      <td>三民</td>\n",
       "      <td>闖紅燈</td>\n",
       "      <td>22.639828</td>\n",
       "      <td>120.320430</td>\n",
       "    </tr>\n",
       "    <tr>\n",
       "      <th>2</th>\n",
       "      <td>3</td>\n",
       "      <td>線圈數位</td>\n",
       "      <td>同盟一路高醫大門</td>\n",
       "      <td>西向東</td>\n",
       "      <td>50</td>\n",
       "      <td>三民</td>\n",
       "      <td>闖紅燈</td>\n",
       "      <td>22.649115</td>\n",
       "      <td>120.310069</td>\n",
       "    </tr>\n",
       "    <tr>\n",
       "      <th>3</th>\n",
       "      <td>4</td>\n",
       "      <td>線圈數位</td>\n",
       "      <td>河堤路與民族一路543巷口</td>\n",
       "      <td>北向南</td>\n",
       "      <td>50</td>\n",
       "      <td>三民</td>\n",
       "      <td>闖紅燈</td>\n",
       "      <td>22.666989</td>\n",
       "      <td>120.314915</td>\n",
       "    </tr>\n",
       "    <tr>\n",
       "      <th>4</th>\n",
       "      <td>5</td>\n",
       "      <td>雷達數位</td>\n",
       "      <td>民族一路268號前</td>\n",
       "      <td>南北向</td>\n",
       "      <td>60</td>\n",
       "      <td>三民</td>\n",
       "      <td>超速</td>\n",
       "      <td>22.649855</td>\n",
       "      <td>120.314951</td>\n",
       "    </tr>\n",
       "    <tr>\n",
       "      <th>...</th>\n",
       "      <td>...</td>\n",
       "      <td>...</td>\n",
       "      <td>...</td>\n",
       "      <td>...</td>\n",
       "      <td>...</td>\n",
       "      <td>...</td>\n",
       "      <td>...</td>\n",
       "      <td>...</td>\n",
       "      <td>...</td>\n",
       "    </tr>\n",
       "    <tr>\n",
       "      <th>254</th>\n",
       "      <td>255</td>\n",
       "      <td>線圈數位</td>\n",
       "      <td>台22線高雄科技大學(燕巢校區)前路口</td>\n",
       "      <td>東向西</td>\n",
       "      <td>60</td>\n",
       "      <td>燕巢</td>\n",
       "      <td>闖紅燈</td>\n",
       "      <td>22.772306</td>\n",
       "      <td>120.400645</td>\n",
       "    </tr>\n",
       "    <tr>\n",
       "      <th>255</th>\n",
       "      <td>256</td>\n",
       "      <td>雷達數位</td>\n",
       "      <td>燕巢區旗楠路段(鳳旗路44號之10旁)</td>\n",
       "      <td>東向西</td>\n",
       "      <td>50</td>\n",
       "      <td>燕巢</td>\n",
       "      <td>超速</td>\n",
       "      <td>22.755227</td>\n",
       "      <td>120.356279</td>\n",
       "    </tr>\n",
       "    <tr>\n",
       "      <th>256</th>\n",
       "      <td>257</td>\n",
       "      <td>線圈數位</td>\n",
       "      <td>中興路與南一巷口(燕巢國中前)</td>\n",
       "      <td>北向南</td>\n",
       "      <td>60</td>\n",
       "      <td>燕巢</td>\n",
       "      <td>闖紅燈</td>\n",
       "      <td>22.786931</td>\n",
       "      <td>120.362362</td>\n",
       "    </tr>\n",
       "    <tr>\n",
       "      <th>257</th>\n",
       "      <td>258</td>\n",
       "      <td>非線圈數位-雷射</td>\n",
       "      <td>燕巢區台22線深水國小前路口</td>\n",
       "      <td>東向西</td>\n",
       "      <td>50</td>\n",
       "      <td>燕巢</td>\n",
       "      <td>闖紅燈</td>\n",
       "      <td>22.777427</td>\n",
       "      <td>120.405887</td>\n",
       "    </tr>\n",
       "    <tr>\n",
       "      <th>258</th>\n",
       "      <td>259</td>\n",
       "      <td>雷達數位</td>\n",
       "      <td>燕巢區鳳澄路7之32號前</td>\n",
       "      <td>北向南</td>\n",
       "      <td>60</td>\n",
       "      <td>燕巢</td>\n",
       "      <td>超速</td>\n",
       "      <td>22.756254</td>\n",
       "      <td>120.363547</td>\n",
       "    </tr>\n",
       "  </tbody>\n",
       "</table>\n",
       "<p>259 rows × 9 columns</p>\n",
       "</div>"
      ],
      "text/plain": [
       "      編號        型式                 測照地點 測照方向  速限 行政區 測照型式       座標緯度  \\\n",
       "0      1  非線圈數位-雷射           民族一路與十全一路口  北向南  60  三民  闖紅燈  22.644858   \n",
       "1      2      線圈數位            九如一路與平等路口  西向東  50  三民  闖紅燈  22.639828   \n",
       "2      3      線圈數位             同盟一路高醫大門  西向東  50  三民  闖紅燈  22.649115   \n",
       "3      4      線圈數位        河堤路與民族一路543巷口  北向南  50  三民  闖紅燈  22.666989   \n",
       "4      5      雷達數位            民族一路268號前  南北向  60  三民   超速  22.649855   \n",
       "..   ...       ...                  ...  ...  ..  ..  ...        ...   \n",
       "254  255      線圈數位  台22線高雄科技大學(燕巢校區)前路口  東向西  60  燕巢  闖紅燈  22.772306   \n",
       "255  256      雷達數位  燕巢區旗楠路段(鳳旗路44號之10旁)  東向西  50  燕巢   超速  22.755227   \n",
       "256  257      線圈數位      中興路與南一巷口(燕巢國中前)  北向南  60  燕巢  闖紅燈  22.786931   \n",
       "257  258  非線圈數位-雷射       燕巢區台22線深水國小前路口  東向西  50  燕巢  闖紅燈  22.777427   \n",
       "258  259      雷達數位         燕巢區鳳澄路7之32號前  北向南  60  燕巢   超速  22.756254   \n",
       "\n",
       "           座標經度  \n",
       "0    120.314341  \n",
       "1    120.320430  \n",
       "2    120.310069  \n",
       "3    120.314915  \n",
       "4    120.314951  \n",
       "..          ...  \n",
       "254  120.400645  \n",
       "255  120.356279  \n",
       "256  120.362362  \n",
       "257  120.405887  \n",
       "258  120.363547  \n",
       "\n",
       "[259 rows x 9 columns]"
      ]
     },
     "execution_count": 5,
     "metadata": {},
     "output_type": "execute_result"
    }
   ],
   "source": [
    "df"
   ]
  },
  {
   "cell_type": "markdown",
   "id": "b9a95f90",
   "metadata": {},
   "source": [
    "### 1.高雄各區的違規數量？"
   ]
  },
  {
   "cell_type": "code",
   "execution_count": 6,
   "id": "551a73a2",
   "metadata": {
    "scrolled": false
   },
   "outputs": [
    {
     "data": {
      "text/plain": [
       "前鎮    31\n",
       "三民    24\n",
       "小港    23\n",
       "左營    22\n",
       "大寮    20\n",
       "苓雅    19\n",
       "鳳山    18\n",
       "楠梓    16\n",
       "仁武    12\n",
       "旗山     9\n",
       "岡山     9\n",
       "鼓山     6\n",
       "路竹     6\n",
       "林園     6\n",
       "美濃     5\n",
       "橋頭     5\n",
       "燕巢     5\n",
       "大社     5\n",
       "大樹     4\n",
       "六龜     3\n",
       "湖內     2\n",
       "新興     2\n",
       "田寮     2\n",
       "茄萣     1\n",
       "阿蓮     1\n",
       "永安     1\n",
       "內門     1\n",
       "前金     1\n",
       "Name: 行政區, dtype: int64"
      ]
     },
     "execution_count": 6,
     "metadata": {},
     "output_type": "execute_result"
    }
   ],
   "source": [
    "counts = df['行政區'].value_counts()\n",
    "counts"
   ]
  },
  {
   "cell_type": "markdown",
   "id": "c99e030e",
   "metadata": {},
   "source": [
    "### 2違規照相設備中，哪一種設備拍攝到的違規行為最多"
   ]
  },
  {
   "cell_type": "code",
   "execution_count": 7,
   "id": "47c83ca9",
   "metadata": {},
   "outputs": [
    {
     "data": {
      "text/html": [
       "<div>\n",
       "<style scoped>\n",
       "    .dataframe tbody tr th:only-of-type {\n",
       "        vertical-align: middle;\n",
       "    }\n",
       "\n",
       "    .dataframe tbody tr th {\n",
       "        vertical-align: top;\n",
       "    }\n",
       "\n",
       "    .dataframe thead th {\n",
       "        text-align: right;\n",
       "    }\n",
       "</style>\n",
       "<table border=\"1\" class=\"dataframe\">\n",
       "  <thead>\n",
       "    <tr style=\"text-align: right;\">\n",
       "      <th></th>\n",
       "      <th>型式</th>\n",
       "      <th>測照型式</th>\n",
       "    </tr>\n",
       "  </thead>\n",
       "  <tbody>\n",
       "    <tr>\n",
       "      <th>0</th>\n",
       "      <td>F桿非線圈數位-雷射(雷達)</td>\n",
       "      <td>1</td>\n",
       "    </tr>\n",
       "    <tr>\n",
       "      <th>1</th>\n",
       "      <td>數位雷達</td>\n",
       "      <td>1</td>\n",
       "    </tr>\n",
       "    <tr>\n",
       "      <th>2</th>\n",
       "      <td>線圈數位</td>\n",
       "      <td>72</td>\n",
       "    </tr>\n",
       "    <tr>\n",
       "      <th>3</th>\n",
       "      <td>雷達數位</td>\n",
       "      <td>74</td>\n",
       "    </tr>\n",
       "    <tr>\n",
       "      <th>4</th>\n",
       "      <td>非線圈數位-雷射</td>\n",
       "      <td>68</td>\n",
       "    </tr>\n",
       "    <tr>\n",
       "      <th>5</th>\n",
       "      <td>非線圈數位-雷射(雷達)</td>\n",
       "      <td>41</td>\n",
       "    </tr>\n",
       "    <tr>\n",
       "      <th>6</th>\n",
       "      <td>非線圈數位-雷達(雷射)</td>\n",
       "      <td>2</td>\n",
       "    </tr>\n",
       "  </tbody>\n",
       "</table>\n",
       "</div>"
      ],
      "text/plain": [
       "               型式  測照型式\n",
       "0  F桿非線圈數位-雷射(雷達)     1\n",
       "1            數位雷達     1\n",
       "2            線圈數位    72\n",
       "3            雷達數位    74\n",
       "4        非線圈數位-雷射    68\n",
       "5    非線圈數位-雷射(雷達)    41\n",
       "6    非線圈數位-雷達(雷射)     2"
      ]
     },
     "execution_count": 7,
     "metadata": {},
     "output_type": "execute_result"
    }
   ],
   "source": [
    "result = df.groupby(['型式']).size().reset_index(name='測照型式')\n",
    "result"
   ]
  },
  {
   "cell_type": "code",
   "execution_count": 8,
   "id": "23d5f37f",
   "metadata": {},
   "outputs": [
    {
     "name": "stdout",
     "output_type": "stream",
     "text": [
      "               型式  測照型式\n",
      "3            雷達數位    74\n",
      "2            線圈數位    72\n",
      "4        非線圈數位-雷射    68\n",
      "5    非線圈數位-雷射(雷達)    41\n",
      "6    非線圈數位-雷達(雷射)     2\n",
      "0  F桿非線圈數位-雷射(雷達)     1\n",
      "1            數位雷達     1\n"
     ]
    }
   ],
   "source": [
    "result = result.sort_values(by='測照型式', ascending=False).head(10)\n",
    "\n",
    "print(result)"
   ]
  },
  {
   "cell_type": "code",
   "execution_count": 9,
   "id": "b1244e00",
   "metadata": {},
   "outputs": [
    {
     "data": {
      "text/plain": [
       "雷達數位              74\n",
       "線圈數位              72\n",
       "非線圈數位-雷射          68\n",
       "非線圈數位-雷射(雷達)      41\n",
       "非線圈數位-雷達(雷射)       2\n",
       "F桿非線圈數位-雷射(雷達)     1\n",
       "數位雷達               1\n",
       "Name: 型式, dtype: int64"
      ]
     },
     "execution_count": 9,
     "metadata": {},
     "output_type": "execute_result"
    }
   ],
   "source": [
    "form = df['型式'].value_counts()\n",
    "form\n"
   ]
  },
  {
   "cell_type": "markdown",
   "id": "574a667c",
   "metadata": {},
   "source": [
    "### 3.高雄人闖紅燈的數量為多少件"
   ]
  },
  {
   "cell_type": "code",
   "execution_count": 10,
   "id": "8cecd2c3",
   "metadata": {
    "scrolled": false
   },
   "outputs": [
    {
     "data": {
      "text/html": [
       "<div>\n",
       "<style scoped>\n",
       "    .dataframe tbody tr th:only-of-type {\n",
       "        vertical-align: middle;\n",
       "    }\n",
       "\n",
       "    .dataframe tbody tr th {\n",
       "        vertical-align: top;\n",
       "    }\n",
       "\n",
       "    .dataframe thead th {\n",
       "        text-align: right;\n",
       "    }\n",
       "</style>\n",
       "<table border=\"1\" class=\"dataframe\">\n",
       "  <thead>\n",
       "    <tr style=\"text-align: right;\">\n",
       "      <th></th>\n",
       "      <th>編號</th>\n",
       "      <th>型式</th>\n",
       "      <th>測照地點</th>\n",
       "      <th>測照方向</th>\n",
       "      <th>速限</th>\n",
       "      <th>行政區</th>\n",
       "      <th>測照型式</th>\n",
       "      <th>座標緯度</th>\n",
       "      <th>座標經度</th>\n",
       "    </tr>\n",
       "  </thead>\n",
       "  <tbody>\n",
       "    <tr>\n",
       "      <th>0</th>\n",
       "      <td>1</td>\n",
       "      <td>非線圈數位-雷射</td>\n",
       "      <td>民族一路與十全一路口</td>\n",
       "      <td>北向南</td>\n",
       "      <td>60</td>\n",
       "      <td>三民</td>\n",
       "      <td>闖紅燈</td>\n",
       "      <td>22.644858</td>\n",
       "      <td>120.314341</td>\n",
       "    </tr>\n",
       "    <tr>\n",
       "      <th>1</th>\n",
       "      <td>2</td>\n",
       "      <td>線圈數位</td>\n",
       "      <td>九如一路與平等路口</td>\n",
       "      <td>西向東</td>\n",
       "      <td>50</td>\n",
       "      <td>三民</td>\n",
       "      <td>闖紅燈</td>\n",
       "      <td>22.639828</td>\n",
       "      <td>120.320430</td>\n",
       "    </tr>\n",
       "    <tr>\n",
       "      <th>2</th>\n",
       "      <td>3</td>\n",
       "      <td>線圈數位</td>\n",
       "      <td>同盟一路高醫大門</td>\n",
       "      <td>西向東</td>\n",
       "      <td>50</td>\n",
       "      <td>三民</td>\n",
       "      <td>闖紅燈</td>\n",
       "      <td>22.649115</td>\n",
       "      <td>120.310069</td>\n",
       "    </tr>\n",
       "    <tr>\n",
       "      <th>3</th>\n",
       "      <td>4</td>\n",
       "      <td>線圈數位</td>\n",
       "      <td>河堤路與民族一路543巷口</td>\n",
       "      <td>北向南</td>\n",
       "      <td>50</td>\n",
       "      <td>三民</td>\n",
       "      <td>闖紅燈</td>\n",
       "      <td>22.666989</td>\n",
       "      <td>120.314915</td>\n",
       "    </tr>\n",
       "    <tr>\n",
       "      <th>7</th>\n",
       "      <td>8</td>\n",
       "      <td>線圈數位</td>\n",
       "      <td>大昌二路420巷口</td>\n",
       "      <td>南向北</td>\n",
       "      <td>50</td>\n",
       "      <td>三民</td>\n",
       "      <td>闖紅燈</td>\n",
       "      <td>22.649923</td>\n",
       "      <td>120.331829</td>\n",
       "    </tr>\n",
       "    <tr>\n",
       "      <th>...</th>\n",
       "      <td>...</td>\n",
       "      <td>...</td>\n",
       "      <td>...</td>\n",
       "      <td>...</td>\n",
       "      <td>...</td>\n",
       "      <td>...</td>\n",
       "      <td>...</td>\n",
       "      <td>...</td>\n",
       "      <td>...</td>\n",
       "    </tr>\n",
       "    <tr>\n",
       "      <th>251</th>\n",
       "      <td>252</td>\n",
       "      <td>非線圈數位-雷射(雷達)</td>\n",
       "      <td>橋頭區成功北路與新興路</td>\n",
       "      <td>北向南</td>\n",
       "      <td>60</td>\n",
       "      <td>橋頭</td>\n",
       "      <td>闖紅燈</td>\n",
       "      <td>22.759935</td>\n",
       "      <td>120.309550</td>\n",
       "    </tr>\n",
       "    <tr>\n",
       "      <th>252</th>\n",
       "      <td>253</td>\n",
       "      <td>非線圈數位-雷射(雷達)</td>\n",
       "      <td>橋頭區成功北路與鐵道北路</td>\n",
       "      <td>北向南</td>\n",
       "      <td>60</td>\n",
       "      <td>橋頭</td>\n",
       "      <td>闖紅燈</td>\n",
       "      <td>22.767154</td>\n",
       "      <td>120.305743</td>\n",
       "    </tr>\n",
       "    <tr>\n",
       "      <th>254</th>\n",
       "      <td>255</td>\n",
       "      <td>線圈數位</td>\n",
       "      <td>台22線高雄科技大學(燕巢校區)前路口</td>\n",
       "      <td>東向西</td>\n",
       "      <td>60</td>\n",
       "      <td>燕巢</td>\n",
       "      <td>闖紅燈</td>\n",
       "      <td>22.772306</td>\n",
       "      <td>120.400645</td>\n",
       "    </tr>\n",
       "    <tr>\n",
       "      <th>256</th>\n",
       "      <td>257</td>\n",
       "      <td>線圈數位</td>\n",
       "      <td>中興路與南一巷口(燕巢國中前)</td>\n",
       "      <td>北向南</td>\n",
       "      <td>60</td>\n",
       "      <td>燕巢</td>\n",
       "      <td>闖紅燈</td>\n",
       "      <td>22.786931</td>\n",
       "      <td>120.362362</td>\n",
       "    </tr>\n",
       "    <tr>\n",
       "      <th>257</th>\n",
       "      <td>258</td>\n",
       "      <td>非線圈數位-雷射</td>\n",
       "      <td>燕巢區台22線深水國小前路口</td>\n",
       "      <td>東向西</td>\n",
       "      <td>50</td>\n",
       "      <td>燕巢</td>\n",
       "      <td>闖紅燈</td>\n",
       "      <td>22.777427</td>\n",
       "      <td>120.405887</td>\n",
       "    </tr>\n",
       "  </tbody>\n",
       "</table>\n",
       "<p>137 rows × 9 columns</p>\n",
       "</div>"
      ],
      "text/plain": [
       "      編號            型式                 測照地點 測照方向  速限 行政區 測照型式       座標緯度  \\\n",
       "0      1      非線圈數位-雷射           民族一路與十全一路口  北向南  60  三民  闖紅燈  22.644858   \n",
       "1      2          線圈數位            九如一路與平等路口  西向東  50  三民  闖紅燈  22.639828   \n",
       "2      3          線圈數位             同盟一路高醫大門  西向東  50  三民  闖紅燈  22.649115   \n",
       "3      4          線圈數位        河堤路與民族一路543巷口  北向南  50  三民  闖紅燈  22.666989   \n",
       "7      8          線圈數位            大昌二路420巷口  南向北  50  三民  闖紅燈  22.649923   \n",
       "..   ...           ...                  ...  ...  ..  ..  ...        ...   \n",
       "251  252  非線圈數位-雷射(雷達)          橋頭區成功北路與新興路  北向南  60  橋頭  闖紅燈  22.759935   \n",
       "252  253  非線圈數位-雷射(雷達)         橋頭區成功北路與鐵道北路  北向南  60  橋頭  闖紅燈  22.767154   \n",
       "254  255          線圈數位  台22線高雄科技大學(燕巢校區)前路口  東向西  60  燕巢  闖紅燈  22.772306   \n",
       "256  257          線圈數位      中興路與南一巷口(燕巢國中前)  北向南  60  燕巢  闖紅燈  22.786931   \n",
       "257  258      非線圈數位-雷射       燕巢區台22線深水國小前路口  東向西  50  燕巢  闖紅燈  22.777427   \n",
       "\n",
       "           座標經度  \n",
       "0    120.314341  \n",
       "1    120.320430  \n",
       "2    120.310069  \n",
       "3    120.314915  \n",
       "7    120.331829  \n",
       "..          ...  \n",
       "251  120.309550  \n",
       "252  120.305743  \n",
       "254  120.400645  \n",
       "256  120.362362  \n",
       "257  120.405887  \n",
       "\n",
       "[137 rows x 9 columns]"
      ]
     },
     "execution_count": 10,
     "metadata": {},
     "output_type": "execute_result"
    }
   ],
   "source": [
    "red_light_violations = df[df['測照型式'] == '闖紅燈']\n",
    "red_light_violations"
   ]
  },
  {
   "cell_type": "code",
   "execution_count": 11,
   "id": "c40e7833",
   "metadata": {},
   "outputs": [
    {
     "name": "stdout",
     "output_type": "stream",
     "text": [
      "拍攝到的闖紅燈數量為: 137\n"
     ]
    }
   ],
   "source": [
    "count = len(red_light_violations)\n",
    "\n",
    "print('拍攝到的闖紅燈數量為:', count)"
   ]
  },
  {
   "cell_type": "markdown",
   "id": "17a594e2",
   "metadata": {},
   "source": [
    "### 4.違規行為中，哪一種違規行為最常被拍攝到？"
   ]
  },
  {
   "cell_type": "code",
   "execution_count": 12,
   "id": "1687c0c7",
   "metadata": {},
   "outputs": [
    {
     "name": "stdout",
     "output_type": "stream",
     "text": [
      "            測照型式   型式\n",
      "2            闖紅燈  137\n",
      "0             超速   75\n",
      "4         闖紅燈兼超速   24\n",
      "5   闖紅燈兼路口科技執法監測   18\n",
      "1             違左    3\n",
      "3  闖紅燈、超速兼科技執法監測    2\n"
     ]
    }
   ],
   "source": [
    "# 按照照相設備種類進行分組計數\n",
    "result = df.groupby(['測照型式']).size().reset_index(name='型式')\n",
    "\n",
    "# 按照違規行為數量排序，並顯示前10筆數據\n",
    "result = result.sort_values(by='型式', ascending=False).head(10)\n",
    "\n",
    "print(result)"
   ]
  },
  {
   "cell_type": "markdown",
   "id": "2eb8404c",
   "metadata": {},
   "source": [
    "### 5. 三民區的違規分布"
   ]
  },
  {
   "cell_type": "code",
   "execution_count": 21,
   "id": "5053c93f",
   "metadata": {},
   "outputs": [
    {
     "name": "stdout",
     "output_type": "stream",
     "text": [
      "           測照型式  型式\n",
      "2           闖紅燈  15\n",
      "0            超速   5\n",
      "1            違左   2\n",
      "3        闖紅燈兼超速   1\n",
      "4  闖紅燈兼路口科技執法監測   1\n"
     ]
    }
   ],
   "source": [
    "three = df.loc[df['行政區'] == '三民']\n",
    "result1 = three.groupby(['測照型式']).size().reset_index(name='型式')\n",
    "\n",
    "# 按照違規行為數量排序，並顯示前10筆數據\n",
    "result1 = result1.sort_values(by='型式', ascending=False).head(10)\n",
    "\n",
    "print(result1)\n"
   ]
  },
  {
   "cell_type": "markdown",
   "id": "1deb3647",
   "metadata": {},
   "source": [
    "### 6.雷達數位中哪個違規多"
   ]
  },
  {
   "cell_type": "code",
   "execution_count": 17,
   "id": "a0c81198",
   "metadata": {},
   "outputs": [
    {
     "name": "stdout",
     "output_type": "stream",
     "text": [
      "雷達數位中違規最多的行為是： 超速\n"
     ]
    }
   ],
   "source": [
    "radar = df.loc[df['型式'].str.contains('雷達數位', na=False)]\n",
    "\n",
    "\n",
    "# 統計各種違規行為的出現次數，並取得出現次數最多的違規行為\n",
    "\n",
    "violation_counts = radar['測照型式'].value_counts()\n",
    "most_frequent_violation = violation_counts.index[0]\n",
    "\n",
    "print('雷達數位中違規最多的行為是：', most_frequent_violation)"
   ]
  },
  {
   "cell_type": "markdown",
   "id": "2c81a8da",
   "metadata": {},
   "source": [
    "### 7.線圈數位中哪個區最多違規"
   ]
  },
  {
   "cell_type": "code",
   "execution_count": 25,
   "id": "4f71bda0",
   "metadata": {},
   "outputs": [
    {
     "name": "stdout",
     "output_type": "stream",
     "text": [
      "線圈數位中違規最多的區域是： 前鎮\n"
     ]
    }
   ],
   "source": [
    "# 篩選出線圈數位拍攝到的違規行為\n",
    "loop = df.loc[df['型式'].str.contains('線圈數位', na=False)]\n",
    "\n",
    "# 以拍攝地點欄位為基礎做計數，取得違規次數最多的區域\n",
    "most_violated_district = loop['行政區'].str.split('線圈數位').str[0].value_counts().index[0]\n",
    "\n",
    "print('線圈數位中違規最多的區域是：', most_violated_district)"
   ]
  },
  {
   "cell_type": "markdown",
   "id": "a8f2232b",
   "metadata": {},
   "source": [
    "### 8.哪個區域闖紅燈次數最多"
   ]
  },
  {
   "cell_type": "code",
   "execution_count": null,
   "id": "53378717",
   "metadata": {},
   "outputs": [],
   "source": [
    "# 篩選出闖紅燈的違規行為\n",
    "red_light_violations = df.loc[df['測照型式'].str.contains('闖紅燈', na=False)]\n",
    "\n",
    "# 以拍攝地點欄位為基礎做計數，取得違規次數最多的區域\n",
    "most_violated_district = red_light_violations['拍攝地點'].str.split(' ').str[0].value_counts().index[0]\n",
    "\n",
    "print('哪個區域闖紅燈次數最多：', most_violated_district)"
   ]
  },
  {
   "cell_type": "code",
   "execution_count": null,
   "id": "084b0342",
   "metadata": {},
   "outputs": [],
   "source": []
  },
  {
   "cell_type": "code",
   "execution_count": null,
   "id": "e7a264c8",
   "metadata": {},
   "outputs": [],
   "source": []
  }
 ],
 "metadata": {
  "kernelspec": {
   "display_name": "Python 3 (ipykernel)",
   "language": "python",
   "name": "python3"
  },
  "language_info": {
   "codemirror_mode": {
    "name": "ipython",
    "version": 3
   },
   "file_extension": ".py",
   "mimetype": "text/x-python",
   "name": "python",
   "nbconvert_exporter": "python",
   "pygments_lexer": "ipython3",
   "version": "3.9.12"
  }
 },
 "nbformat": 4,
 "nbformat_minor": 5
}
